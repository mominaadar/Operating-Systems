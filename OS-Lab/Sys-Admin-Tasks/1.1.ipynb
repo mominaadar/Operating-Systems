{
 "cells": [
  {
   "cell_type": "markdown",
   "metadata": {},
   "source": [
    "# Lecture 1"
   ]
  },
  {
   "cell_type": "code",
   "execution_count": 188,
   "metadata": {},
   "outputs": [
    {
     "data": {
      "text/plain": [
       "'0b1'"
      ]
     },
     "execution_count": 188,
     "metadata": {},
     "output_type": "execute_result"
    }
   ],
   "source": [
    "#checking XOR\n",
    "bin(0b10 ^ 0b11)"
   ]
  },
  {
   "cell_type": "code",
   "execution_count": 189,
   "metadata": {},
   "outputs": [
    {
     "data": {
      "text/plain": [
       "'0b10'"
      ]
     },
     "execution_count": 189,
     "metadata": {},
     "output_type": "execute_result"
    }
   ],
   "source": [
    "#reversing XOR\n",
    "bin(0b1 ^ 0b11)"
   ]
  },
  {
   "cell_type": "code",
   "execution_count": 203,
   "metadata": {},
   "outputs": [],
   "source": [
    "msg = \"The name is Sherlock Holmes and address is 221B Bakers Street.\""
   ]
  },
  {
   "cell_type": "code",
   "execution_count": 204,
   "metadata": {},
   "outputs": [
    {
     "name": "stdout",
     "output_type": "stream",
     "text": [
      "84\n",
      "104\n",
      "101\n",
      "32\n",
      "110\n",
      "97\n",
      "109\n",
      "101\n",
      "32\n",
      "105\n",
      "115\n",
      "32\n",
      "83\n",
      "104\n",
      "101\n",
      "114\n",
      "108\n",
      "111\n",
      "99\n",
      "107\n",
      "32\n",
      "72\n",
      "111\n",
      "108\n",
      "109\n",
      "101\n",
      "115\n",
      "32\n",
      "97\n",
      "110\n",
      "100\n",
      "32\n",
      "97\n",
      "100\n",
      "100\n",
      "114\n",
      "101\n",
      "115\n",
      "115\n",
      "32\n",
      "105\n",
      "115\n",
      "32\n",
      "50\n",
      "50\n",
      "49\n",
      "66\n",
      "32\n",
      "66\n",
      "97\n",
      "107\n",
      "101\n",
      "114\n",
      "115\n",
      "32\n",
      "83\n",
      "116\n",
      "114\n",
      "101\n",
      "101\n",
      "116\n",
      "46\n"
     ]
    }
   ],
   "source": [
    "for i in msg[:]:\n",
    "    print(ord(i))"
   ]
  },
  {
   "cell_type": "code",
   "execution_count": 210,
   "metadata": {},
   "outputs": [],
   "source": [
    "#encryption\n",
    "def encrypt(msg, key):\n",
    "    enc_msg = \"\"\n",
    "    \n",
    "    for i in msg:\n",
    "        c_bin = ord(i)\n",
    "        c_enc = c_bin ^ key\n",
    "        c_enc = chr(c_enc)\n",
    "        \n",
    "        enc_msg += c_enc\n",
    "        \n",
    "    return enc_msg"
   ]
  },
  {
   "cell_type": "code",
   "execution_count": 211,
   "metadata": {},
   "outputs": [
    {
     "name": "stdout",
     "output_type": "stream",
     "text": [
      "\u0018$)l\"-!)l%?l\u001f$)> #/'l\u0004# !)?l-\"(l-((>)??l%?l~~}\u000el\u000e-')>?l\u001f8>))8b\n"
     ]
    }
   ],
   "source": [
    "key = 76\n",
    "cypher_txt = encrypt(msg,key)\n",
    "print(cypher_txt)"
   ]
  },
  {
   "cell_type": "code",
   "execution_count": 213,
   "metadata": {},
   "outputs": [],
   "source": [
    "#decryption\n",
    "def decrypt(cypher_txt, key):\n",
    "    dec_msg = \"\"\n",
    "    \n",
    "    for i in cypher_txt:\n",
    "        c_bin = ord(i)\n",
    "        c_dec = c_bin ^ key\n",
    "        c_dec = chr(c_dec)\n",
    "        \n",
    "        dec_msg += c_dec\n",
    "        \n",
    "    return dec_msg        "
   ]
  },
  {
   "cell_type": "code",
   "execution_count": 214,
   "metadata": {},
   "outputs": [
    {
     "name": "stdout",
     "output_type": "stream",
     "text": [
      "The name is Sherlock Holmes and address is 221B Bakers Street.\n"
     ]
    }
   ],
   "source": [
    "print(decrypt(cypher_txt,key))"
   ]
  },
  {
   "cell_type": "markdown",
   "metadata": {},
   "source": [
    "# trying to decode hidden msg with hit and try key values"
   ]
  },
  {
   "cell_type": "code",
   "execution_count": 215,
   "metadata": {},
   "outputs": [
    {
     "name": "stdout",
     "output_type": "stream",
     "text": [
      "\u001a&+n /#+n'=n\u001d",
      "&+<\"!-%n\u0006!\"#+=n/ *n/**<+==n'=n||\f",
      "n\f",
      "/%+<=n\u001d",
      ":<++:`\n"
     ]
    }
   ],
   "source": [
    "key = 2\n",
    "print(decrypt(cypher_txt,key))"
   ]
  },
  {
   "cell_type": "code",
   "execution_count": 217,
   "metadata": {},
   "outputs": [
    {
     "name": "stdout",
     "output_type": "stream",
     "text": [
      "/\u0013\u001e",
      "[\u0015\u001a\u0016\u001e",
      "[\u0012\b[(\u0013\u001e",
      "\t\u0017\u0014\u0018\u0010[3\u0014\u0017\u0016\u001e",
      "\b[\u001a\u0015\u001f[\u001a\u001f\u001f\t\u001e",
      "\b\b[\u0012\b[IIJ9[9\u001a\u0010\u001e",
      "\t\b[(\u000f\t\u001e",
      "\u001e",
      "\u000fU\n",
      " \u001c",
      "\u0011T\u001a\u0015\u0019\u0011T\u001d",
      "\u0007T'\u001c",
      "\u0011\u0006\u0018\u001b\u0017\u001fT<\u001b\u0018\u0019\u0011\u0007T\u0015\u001a\u0010T\u0015\u0010\u0010\u0006\u0011\u0007\u0007T\u001d",
      "\u0007TFFE6T6\u0015\u001f\u0011\u0006\u0007T'\u0000\u0006\u0011\u0011\u0000Z\n",
      "!\u001d",
      "\u0010U\u001b\u0014\u0018\u0010U\u001c",
      "\u0006U&\u001d",
      "\u0010\u0007\u0019\u001a\u0016\u001e",
      "U=\u001a\u0019\u0018\u0010\u0006U\u0014\u001b\u0011U\u0014\u0011\u0011\u0007\u0010\u0006\u0006U\u001c",
      "\u0006UGGD7U7\u0014\u001e",
      "\u0010\u0007\u0006U&\u0001\u0007\u0010\u0010\u0001[\n",
      "\"\u001e",
      "\u0013V\u0018\u0017\u001b\u0013V\u001f\u0005V%\u001e",
      "\u0013\u0004\u001a\u0019\u0015\u001d",
      "V>\u0019\u001a\u001b\u0013\u0005V\u0017\u0018\u0012V\u0017\u0012\u0012\u0004\u0013\u0005\u0005V\u001f\u0005VDDG4V4\u0017\u001d",
      "\u0013\u0004\u0005V%\u0002\u0004\u0013\u0013\u0002X\n",
      "#\u001f\u0012W\u0019\u0016\u001a\u0012W\u001e",
      "\u0004W$\u001f\u0012\u0005\u001b\u0018\u0014\u001c",
      "W?\u0018\u001b\u001a\u0012\u0004W\u0016\u0019\u0013W\u0016\u0013\u0013\u0005\u0012\u0004\u0004W\u001e",
      "\u0004WEEF5W5\u0016\u001c",
      "\u0012\u0005\u0004W$\u0003\u0005\u0012\u0012\u0003Y\n",
      "$\u0018\u0015P\u001e",
      "\u0011\u001d",
      "\u0015P\u0019\u0003P#\u0018\u0015\u0002\u001c",
      "\u001f\u0013\u001bP8\u001f\u001c",
      "\u001d",
      "\u0015\u0003P\u0011\u001e",
      "\u0014P\u0011\u0014\u0014\u0002\u0015\u0003\u0003P\u0019\u0003PBBA2P2\u0011\u001b\u0015\u0002\u0003P#\u0004\u0002\u0015\u0015\u0004^\n",
      "%\u0019\u0014Q\u001f\u0010\u001c",
      "\u0014Q\u0018\u0002Q\"\u0019\u0014\u0003\u001d",
      "\u001e",
      "\u0012\u001aQ9\u001e",
      "\u001d",
      "\u001c",
      "\u0014\u0002Q\u0010\u001f\u0015Q\u0010\u0015\u0015\u0003\u0014\u0002\u0002Q\u0018\u0002QCC@3Q3\u0010\u001a\u0014\u0003\u0002Q\"\u0005\u0003\u0014\u0014\u0005_\n",
      "&\u001a\u0017R\u001c",
      "\u0013\u001f\u0017R\u001b\u0001R!\u001a\u0017\u0000\u001e",
      "\u001d",
      "\u0011\u0019R:\u001d",
      "\u001e",
      "\u001f\u0017\u0001R\u0013\u001c",
      "\u0016R\u0013\u0016\u0016\u0000\u0017\u0001\u0001R\u001b\u0001R@@C0R0\u0013\u0019\u0017\u0000\u0001R!\u0006\u0000\u0017\u0017\u0006\\\n",
      "'\u001b\u0016S\u001d",
      "\u0012\u001e",
      "\u0016S\u001a\u0000S \u001b\u0016\u0001\u001f\u001c",
      "\u0010\u0018S;\u001c",
      "\u001f\u001e",
      "\u0016\u0000S\u0012\u001d",
      "\u0017S\u0012\u0017\u0017\u0001\u0016\u0000\u0000S\u001a\u0000SAAB1S1\u0012\u0018\u0016\u0001\u0000S \u0007\u0001\u0016\u0016\u0007]\n",
      "Xdi,bmai,e,_di~`cog,Dc`ai,mbh,mhh~i,e,>>=N,Nmgi~,_x~iix\"\n",
      "Yeh-cl`h-d~-^ehabnf-Eba`h~-lci-liih~~-d~-??<O-Olfh~-^yhhy#\n",
      "Zfk.`ock.g}.]fk|bame.Fabck}.o`j.ojj|k}}.g}.<<?L.Loek|}.]z|kkz \n",
      "[gj/anbj/f|/\\gj}c`ld/G`cbj|/nak/nkk}j||/f|/==>M/Mndj}|/\\{}jj{!\n",
      "\\`m(fiem(a{([`mzdgkc(@gdem{(ifl(illzm{{(a{(::9J(Jicmz{([|zmm|&\n",
      "]al)ghdl)`z)Zal{efjb)Afedlz)hgm)hmm{lzz)`z);;8K)Khbl{z)Z}{ll}'\n",
      "^bo*dkgo*cy*Yboxfeia*Befgoy*kdn*knnxoyy*cy*88;H*Hkaoxy*Y~xoo~$\n",
      "_cn+ejfn+bx+Xcnygdh`+Cdgfnx+jeo+jooynxx+bx+99:I+Ij`nyx+Xynn%\n",
      "Pla$jeia$mw$Wlavhkgo$Lkhiaw$ej`$e``vaww$mw$665F$Feoavw$Wpvaap*\n",
      "Qm`%kdh`%lv%Vm`wijfn%Mjih`v%dka%daaw`vv%lv%774G%Gdn`wv%Vqw``q+\n",
      "Rnc&hgkc&ou&Unctjiem&Nijkcu&ghb&gbbtcuu&ou&447D&Dgmctu&Urtccr(\n",
      "Sob'ifjb'nt'Tobukhdl'Ohkjbt'fic'fccubtt'nt'556E'Eflbut'Tsubbs)\n",
      "The name is Sherlock Holmes and address is 221B Bakers Street.\n",
      "Uid!o`ld!hr!Ridsmnbj!Inmldr!`oe!`eesdrr!hr!330C!C`jdsr!Rusddu/\n",
      "Vjg\"lcog\"kq\"Qjgpnmai\"Jmnogq\"clf\"cffpgqq\"kq\"003@\"@cigpq\"Qvpggv,\n",
      "Wkf#mbnf#jp#Pkfqol`h#Klonfp#bmg#bggqfpp#jp#112A#Abhfqp#Pwqffw-\n"
     ]
    }
   ],
   "source": [
    "for i in range(55,80):\n",
    "    print(decrypt(cypher_txt,i))"
   ]
  },
  {
   "cell_type": "markdown",
   "metadata": {},
   "source": [
    "# Lecture 2"
   ]
  },
  {
   "cell_type": "code",
   "execution_count": 300,
   "metadata": {},
   "outputs": [
    {
     "name": "stdout",
     "output_type": "stream",
     "text": [
      "33 20\n"
     ]
    }
   ],
   "source": [
    "p = 3\n",
    "q = 11\n",
    "n = p * q\n",
    "phi = (p-1)*(q-1)\n",
    "print(n,phi)"
   ]
  },
  {
   "cell_type": "code",
   "execution_count": 301,
   "metadata": {},
   "outputs": [],
   "source": [
    "def gcd(a, b):\n",
    "    while b != 0:\n",
    "        a, b = b, a%b\n",
    "    return a"
   ]
  },
  {
   "cell_type": "code",
   "execution_count": 302,
   "metadata": {},
   "outputs": [],
   "source": [
    "#co-prime\n",
    "def get_e(phi):\n",
    "    e = 2\n",
    "    \n",
    "    while True:\n",
    "        if gcd(e,phi) == 1:\n",
    "            break\n",
    "        e+=1\n",
    "    return e"
   ]
  },
  {
   "cell_type": "code",
   "execution_count": 303,
   "metadata": {},
   "outputs": [],
   "source": [
    "def get_d(init_val = 1):\n",
    "    d = init_val\n",
    "    \n",
    "    while True:\n",
    "        if (e*d % phi) == 1:\n",
    "            break\n",
    "        d += 1\n",
    "    return d"
   ]
  },
  {
   "cell_type": "code",
   "execution_count": 304,
   "metadata": {},
   "outputs": [
    {
     "name": "stdout",
     "output_type": "stream",
     "text": [
      "3\n",
      "7\n"
     ]
    }
   ],
   "source": [
    "e = get_e(phi)\n",
    "print(e)\n",
    "d = get_d()\n",
    "print(d)"
   ]
  },
  {
   "cell_type": "code",
   "execution_count": 225,
   "metadata": {},
   "outputs": [],
   "source": [
    "#should be less than n\n",
    "msg = 31"
   ]
  },
  {
   "cell_type": "code",
   "execution_count": 226,
   "metadata": {},
   "outputs": [
    {
     "name": "stdout",
     "output_type": "stream",
     "text": [
      "25\n"
     ]
    }
   ],
   "source": [
    "#encrypt\n",
    "enc = msg**e % n\n",
    "print(enc)"
   ]
  },
  {
   "cell_type": "code",
   "execution_count": 227,
   "metadata": {},
   "outputs": [
    {
     "name": "stdout",
     "output_type": "stream",
     "text": [
      "31\n"
     ]
    }
   ],
   "source": [
    "#decrypt\n",
    "dec = enc**d % n\n",
    "print(dec)"
   ]
  },
  {
   "cell_type": "markdown",
   "metadata": {},
   "source": [
    "# ADDING SIGNATURE"
   ]
  },
  {
   "cell_type": "code",
   "execution_count": 233,
   "metadata": {},
   "outputs": [],
   "source": [
    "money = 500"
   ]
  },
  {
   "cell_type": "code",
   "execution_count": 234,
   "metadata": {},
   "outputs": [
    {
     "name": "stdout",
     "output_type": "stream",
     "text": [
      "n:  10300\n",
      "e:  5\n",
      "d:  6059\n",
      "phi:  10098\n"
     ]
    }
   ],
   "source": [
    "p = 103\n",
    "q = 100\n",
    "n = p*q\n",
    "phi = (p-1)*(q-1)\n",
    "e = get_e(phi)\n",
    "d = get_d()\n",
    "print('n: ',n)\n",
    "print('e: ',e)\n",
    "print('d: ',d)\n",
    "print('phi: ',phi)"
   ]
  },
  {
   "cell_type": "code",
   "execution_count": 239,
   "metadata": {},
   "outputs": [
    {
     "name": "stdout",
     "output_type": "stream",
     "text": [
      "8500\n"
     ]
    }
   ],
   "source": [
    "#encryption with d so decryption with e or do encryption with e and do decryption with d\n",
    "\n",
    "sign = money**d % n\n",
    "print(sign)"
   ]
  },
  {
   "cell_type": "code",
   "execution_count": 240,
   "metadata": {},
   "outputs": [
    {
     "name": "stdout",
     "output_type": "stream",
     "text": [
      "500\n"
     ]
    }
   ],
   "source": [
    "#decryption with d cuz encrypted with e or do decryption with d if encryption with e\n",
    "\n",
    "dec = sign**e % n\n",
    "print(dec)"
   ]
  },
  {
   "cell_type": "code",
   "execution_count": null,
   "metadata": {},
   "outputs": [],
   "source": []
  },
  {
   "cell_type": "code",
   "execution_count": 289,
   "metadata": {},
   "outputs": [],
   "source": [
    "def hash_fn(msg):\n",
    "    a = 0\n",
    "    for i in msg:\n",
    "        a += ord(i)\n",
    "    return int(a % 1e5)"
   ]
  },
  {
   "cell_type": "code",
   "execution_count": 290,
   "metadata": {},
   "outputs": [],
   "source": [
    "msg2 = \"I am going to return you the money I owe you.\""
   ]
  },
  {
   "cell_type": "code",
   "execution_count": 291,
   "metadata": {},
   "outputs": [
    {
     "name": "stdout",
     "output_type": "stream",
     "text": [
      "4051\n"
     ]
    }
   ],
   "source": [
    "hash_val = hash_fn(msg2)\n",
    "print(hash_val)"
   ]
  },
  {
   "cell_type": "code",
   "execution_count": 292,
   "metadata": {},
   "outputs": [
    {
     "name": "stdout",
     "output_type": "stream",
     "text": [
      "751\n"
     ]
    }
   ],
   "source": [
    "#encryption with signature i.e. hidden key\n",
    "sign = hash_val**d % n\n",
    "print(sign)"
   ]
  },
  {
   "cell_type": "code",
   "execution_count": 293,
   "metadata": {},
   "outputs": [
    {
     "name": "stdout",
     "output_type": "stream",
     "text": [
      "I am going to return you the money I owe you. 751\n"
     ]
    }
   ],
   "source": [
    "#made public\n",
    "print(msg2,sign)"
   ]
  },
  {
   "cell_type": "code",
   "execution_count": 294,
   "metadata": {},
   "outputs": [
    {
     "name": "stdout",
     "output_type": "stream",
     "text": [
      "4051\n"
     ]
    }
   ],
   "source": [
    "hash_val = hash_fn(msg2)\n",
    "print(hash_val)"
   ]
  },
  {
   "cell_type": "code",
   "execution_count": 295,
   "metadata": {},
   "outputs": [
    {
     "name": "stdout",
     "output_type": "stream",
     "text": [
      "4051\n"
     ]
    }
   ],
   "source": [
    "#decryption with public key\n",
    "dec = sign**e % n\n",
    "print(dec)"
   ]
  },
  {
   "cell_type": "code",
   "execution_count": 296,
   "metadata": {},
   "outputs": [
    {
     "name": "stdout",
     "output_type": "stream",
     "text": [
      "The message is sent by right person.\n"
     ]
    }
   ],
   "source": [
    "if dec == hash_val:\n",
    "    print(\"The message is sent by right person.\")\n",
    "else:\n",
    "    print(\"The message is sent by wrong person.\")"
   ]
  },
  {
   "cell_type": "code",
   "execution_count": 297,
   "metadata": {},
   "outputs": [
    {
     "name": "stdout",
     "output_type": "stream",
     "text": [
      "7701\n",
      "4051\n",
      "7001\n"
     ]
    }
   ],
   "source": [
    "#encryption with WRONG KEY\n",
    "sign = hash_val**10 % n\n",
    "print(sign)\n",
    "hash_val = hash_fn(msg2)\n",
    "print(hash_val)\n",
    "#decryption with public key\n",
    "dec = sign**e % n\n",
    "print(dec)"
   ]
  },
  {
   "cell_type": "code",
   "execution_count": 298,
   "metadata": {},
   "outputs": [
    {
     "name": "stdout",
     "output_type": "stream",
     "text": [
      "The message is sent by wrong person.\n"
     ]
    }
   ],
   "source": [
    "if dec == hash_val:\n",
    "    print(\"The message is sent by right person.\")\n",
    "else:\n",
    "    print(\"The message is sent by wrong person.\")"
   ]
  },
  {
   "cell_type": "code",
   "execution_count": null,
   "metadata": {},
   "outputs": [],
   "source": []
  }
 ],
 "metadata": {
  "kernelspec": {
   "display_name": "Python 3",
   "language": "python",
   "name": "python3"
  },
  "language_info": {
   "codemirror_mode": {
    "name": "ipython",
    "version": 3
   },
   "file_extension": ".py",
   "mimetype": "text/x-python",
   "name": "python",
   "nbconvert_exporter": "python",
   "pygments_lexer": "ipython3",
   "version": "3.7.5"
  }
 },
 "nbformat": 4,
 "nbformat_minor": 4
}
